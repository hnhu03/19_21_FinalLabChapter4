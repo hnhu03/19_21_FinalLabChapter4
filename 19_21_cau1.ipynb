{
 "cells": [
  {
   "cell_type": "code",
   "execution_count": null,
   "metadata": {},
   "outputs": [],
   "source": [
    "import nltk\n",
    "import re\n",
    "import os\n",
    "import emoji\n",
    "from bs4 import BeautifulSoup\n",
    "from nltk.probability import FreqDist\n",
    "from nltk.corpus import stopwords\n",
    "dic = {}\n",
    "file_path = 'D:/vnm/vnm/choa.txt' \n",
    "with open(file_path, 'r', encoding='utf-8') as file:\n",
    "    for line in file:\n",
    "        word, abbreviation = line.strip().split('\t')\n",
    "        dic[word.strip()] = abbreviation.strip()\n",
    "f = open(\"D:/vnm/vnm/vietnamese-stopwords.txt\", \"r\", encoding=\"utf-8\")\n",
    "#Get Stop words Dictionaries\n",
    "List_StopWords=f.read().split(\"\\n\")\n",
    "src='D:/KhAI PHA WEB/19/Data1-20231102T012633Z-001/Data1'\n",
    "path=os.listdir(src)\n",
    "for i in path:\n",
    "    label=i.split(\"'\")[0]\n",
    "    f=open('D:/KhAI PHA WEB/19/Data1-20231102T012633Z-001/Data1/'+str(label), \"r\", encoding=\"utf-8\")\n",
    "    text=f.read()\n",
    "    # Thay thế tất cả các URL trong chuỗi bằng chuỗi rỗng\n",
    "    text_pre = re.sub(r'http[s]?://(?:[a-zA-Z]|[0-9]|[$-_@.&+]|[!*\\\\(\\\\),]|(?:%[0-9a-fA-F][0-9a-fA-F]))+', '', text)\n",
    "    text_pre=emoji.demojize(text_pre)\n",
    "    text_pre=text_pre.lower() # Convert text to lowercase\n",
    "    text_pre=re.sub(r'[^\\w\\s]','',text_pre) # Remove punctuation\n",
    "    text_pre = re.sub(\"\\d+\", \" \", text_pre) # Remove number\n",
    "    text_pre=text_pre.replace(\"\\n\",\"\")  # Remove the newline command   \n",
    "    text_pre = \" \".join(text_pre for text_pre in text_pre.split() if text_pre not in List_StopWords)\n",
    "    text_pre = re.sub(r\"[!@#$[]()]'\", \"\", text_pre) # Remove character: !@#$[]()\n",
    "# Get Abbreviations Words\n",
    "    t=\"\"\n",
    "    words = text_pre.split()\n",
    "    for word in words:\n",
    "        w=word\n",
    "        w = re.sub(r'[^\\w\\s]','',w)\n",
    "        if w.lower() in dic:\n",
    "            word=dic[w]\n",
    "        t=t + \" \" + word \n",
    "    t=nltk.word_tokenize(t) # Tokenizing   \n",
    "    st=''\n",
    "    for i in t:\n",
    "        st+=str(i)+'\\n'\n",
    "    filename=os.path.join(\"D:/KhAI PHA WEB/bt2.11/Data_Preprocessing\", str(label))    \n",
    "    with open(filename, 'w+',encoding='utf-8') as f:\n",
    "        f.write(st)"
   ]
  }
 ],
 "metadata": {
  "language_info": {
   "name": "python"
  }
 },
 "nbformat": 4,
 "nbformat_minor": 2
}
